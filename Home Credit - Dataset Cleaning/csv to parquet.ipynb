{
 "cells": [
  {
   "cell_type": "markdown",
   "id": "6b199637",
   "metadata": {},
   "source": [
    "# **Transforming a CSV file into the Parquet format for optimized storage and performance.**"
   ]
  },
  {
   "cell_type": "code",
   "execution_count": 1,
   "id": "73f2ca48",
   "metadata": {},
   "outputs": [],
   "source": [
    "import pandas as pd\n",
    "import numpy as np\n",
    "import matplotlib.pyplot as plt\n",
    "import seaborn as sns\n",
    "import warnings\n",
    "warnings.filterwarnings('ignore')"
   ]
  },
  {
   "cell_type": "code",
   "execution_count": 5,
   "id": "44edf92d",
   "metadata": {},
   "outputs": [],
   "source": [
    "app_train = pd.read_csv('C:/Users/Lenovo/Downloads/PBI/Home Credit/Cleaned Dataset/application_train_cleaned.csv')\n",
    "bb = pd.read_csv('C:/Users/Lenovo/Downloads/PBI/Home Credit/Cleaned Dataset/bureau_balance.csv')\n",
    "bc = pd.read_csv('C:/Users/Lenovo/Downloads/PBI/Home Credit/Cleaned Dataset/bureau_cleaned.csv')\n",
    "ccb = pd.read_csv('C:/Users/Lenovo/Downloads/PBI/Home Credit/Cleaned Dataset/credit_card_balance_cleaned.csv')\n",
    "ipay = pd.read_csv('C:/Users/Lenovo/Downloads/PBI/Home Credit/Cleaned Dataset/installments_payments_cleaned.csv')\n",
    "pcb = pd.read_csv('C:/Users/Lenovo/Downloads/PBI/Home Credit/Cleaned Dataset/pos cash_balance_cleaned.csv')\n",
    "prev_app = pd.read_csv('C:/Users/Lenovo/Downloads/PBI/Home Credit/Cleaned Dataset/previous_application_cleaned.csv')"
   ]
  },
  {
   "cell_type": "code",
   "execution_count": 8,
   "id": "729a7b67",
   "metadata": {},
   "outputs": [
    {
     "name": "stdout",
     "output_type": "stream",
     "text": [
      "Empty DataFrame\n",
      "Columns: [self, other]\n",
      "Index: []\n"
     ]
    }
   ],
   "source": [
    "# Save the original data types\n",
    "dtypes_before = app_train.dtypes\n",
    "\n",
    "# Save to Parquet and read it back\n",
    "app_train.to_parquet('app_train.parquet', index=False)\n",
    "app_train_parquet = pd.read_parquet('app_train.parquet')\n",
    "\n",
    "# Check if data types are the same\n",
    "dtypes_after = app_train_parquet.dtypes\n",
    "\n",
    "# Compare data types before and after\n",
    "comparison = dtypes_before.compare(dtypes_after)\n",
    "print(comparison)\n"
   ]
  },
  {
   "cell_type": "code",
   "execution_count": 12,
   "id": "f24b3719",
   "metadata": {},
   "outputs": [
    {
     "name": "stdout",
     "output_type": "stream",
     "text": [
      "Reading: C:/Users/Lenovo/Downloads/PBI/Home Credit/Cleaned Dataset/application_train_cleaned.csv\n",
      "✔️ Saved to: C:/Users/Lenovo/Downloads/PBI/Home Credit/Cleaned Dataset/application_train_cleaned.parquet\n",
      "Reading: C:/Users/Lenovo/Downloads/PBI/Home Credit/Cleaned Dataset/bureau_balance.csv\n",
      "✔️ Saved to: C:/Users/Lenovo/Downloads/PBI/Home Credit/Cleaned Dataset/bureau_balance.parquet\n",
      "Reading: C:/Users/Lenovo/Downloads/PBI/Home Credit/Cleaned Dataset/bureau_cleaned.csv\n",
      "✔️ Saved to: C:/Users/Lenovo/Downloads/PBI/Home Credit/Cleaned Dataset/bureau_cleaned.parquet\n",
      "Reading: C:/Users/Lenovo/Downloads/PBI/Home Credit/Cleaned Dataset/credit_card_balance_cleaned.csv\n",
      "✔️ Saved to: C:/Users/Lenovo/Downloads/PBI/Home Credit/Cleaned Dataset/credit_card_balance_cleaned.parquet\n",
      "Reading: C:/Users/Lenovo/Downloads/PBI/Home Credit/Cleaned Dataset/installments_payments_cleaned.csv\n",
      "✔️ Saved to: C:/Users/Lenovo/Downloads/PBI/Home Credit/Cleaned Dataset/installments_payments_cleaned.parquet\n",
      "Reading: C:/Users/Lenovo/Downloads/PBI/Home Credit/Cleaned Dataset/pos cash_balance_cleaned.csv\n",
      "✔️ Saved to: C:/Users/Lenovo/Downloads/PBI/Home Credit/Cleaned Dataset/pos cash_balance_cleaned.parquet\n",
      "Reading: C:/Users/Lenovo/Downloads/PBI/Home Credit/Cleaned Dataset/previous_application_cleaned.csv\n",
      "✔️ Saved to: C:/Users/Lenovo/Downloads/PBI/Home Credit/Cleaned Dataset/previous_application_cleaned.parquet\n",
      "All files have been successfully converted.\n"
     ]
    }
   ],
   "source": [
    "# List of CSV files and their corresponding variable names\n",
    "file_mapping = {\n",
    "    'C:/Users/Lenovo/Downloads/PBI/Home Credit/Cleaned Dataset/application_train_cleaned.csv': 'app_train',\n",
    "    'C:/Users/Lenovo/Downloads/PBI/Home Credit/Cleaned Dataset/bureau_balance.csv': 'bb',\n",
    "    'C:/Users/Lenovo/Downloads/PBI/Home Credit/Cleaned Dataset/bureau_cleaned.csv': 'bc',\n",
    "    'C:/Users/Lenovo/Downloads/PBI/Home Credit/Cleaned Dataset/credit_card_balance_cleaned.csv': 'ccb',\n",
    "    'C:/Users/Lenovo/Downloads/PBI/Home Credit/Cleaned Dataset/installments_payments_cleaned.csv': 'ipay',\n",
    "    'C:/Users/Lenovo/Downloads/PBI/Home Credit/Cleaned Dataset/pos cash_balance_cleaned.csv': 'pcb',\n",
    "    'C:/Users/Lenovo/Downloads/PBI/Home Credit/Cleaned Dataset/previous_application_cleaned.csv': 'prev_app'\n",
    "}\n",
    "\n",
    "# Loop to convert each CSV file to Parquet format\n",
    "for csv_file in file_mapping:\n",
    "    print(f\"Reading: {csv_file}\")\n",
    "    df = pd.read_csv(csv_file)\n",
    "    \n",
    "    parquet_file = csv_file.replace('.csv', '.parquet')\n",
    "    df.to_parquet(parquet_file, index=False)\n",
    "    \n",
    "    print(f\"✔️ Saved to: {parquet_file}\")\n",
    "\n",
    "print(\"All files have been successfully converted.\")\n"
   ]
  },
  {
   "cell_type": "code",
   "execution_count": 14,
   "id": "befa3ab0",
   "metadata": {},
   "outputs": [
    {
     "name": "stdout",
     "output_type": "stream",
     "text": [
      "✅ C:/Users/Lenovo/Downloads/PBI/Home Credit/Cleaned Dataset/application_train_cleaned: identical.\n",
      "✅ The data is exactly the same (including values, column order, and data types).\n",
      "✅ C:/Users/Lenovo/Downloads/PBI/Home Credit/Cleaned Dataset/bureau_balance: identical.\n",
      "✅ The data is exactly the same (including values, column order, and data types).\n",
      "✅ C:/Users/Lenovo/Downloads/PBI/Home Credit/Cleaned Dataset/bureau_cleaned: identical.\n",
      "✅ The data is exactly the same (including values, column order, and data types).\n",
      "✅ C:/Users/Lenovo/Downloads/PBI/Home Credit/Cleaned Dataset/credit_card_balance_cleaned: identical.\n",
      "✅ The data is exactly the same (including values, column order, and data types).\n",
      "✅ C:/Users/Lenovo/Downloads/PBI/Home Credit/Cleaned Dataset/installments_payments_cleaned: identical.\n",
      "✅ The data is exactly the same (including values, column order, and data types).\n",
      "✅ C:/Users/Lenovo/Downloads/PBI/Home Credit/Cleaned Dataset/pos cash_balance_cleaned: identical.\n",
      "✅ The data is exactly the same (including values, column order, and data types).\n",
      "✅ C:/Users/Lenovo/Downloads/PBI/Home Credit/Cleaned Dataset/previous_application_cleaned: identical.\n",
      "✅ The data is exactly the same (including values, column order, and data types).\n"
     ]
    }
   ],
   "source": [
    "file_names = [\n",
    "    'C:/Users/Lenovo/Downloads/PBI/Home Credit/Cleaned Dataset/application_train_cleaned',\n",
    "    'C:/Users/Lenovo/Downloads/PBI/Home Credit/Cleaned Dataset/bureau_balance',\n",
    "    'C:/Users/Lenovo/Downloads/PBI/Home Credit/Cleaned Dataset/bureau_cleaned',\n",
    "    'C:/Users/Lenovo/Downloads/PBI/Home Credit/Cleaned Dataset/credit_card_balance_cleaned',\n",
    "    'C:/Users/Lenovo/Downloads/PBI/Home Credit/Cleaned Dataset/installments_payments_cleaned',\n",
    "    'C:/Users/Lenovo/Downloads/PBI/Home Credit/Cleaned Dataset/pos cash_balance_cleaned',\n",
    "    'C:/Users/Lenovo/Downloads/PBI/Home Credit/Cleaned Dataset/previous_application_cleaned'\n",
    "]\n",
    "\n",
    "for name in file_names:\n",
    "    df_csv = pd.read_csv(f'{name}.csv')\n",
    "    df_parquet = pd.read_parquet(f'{name}.parquet')\n",
    "    \n",
    "    if df_csv.equals(df_parquet):\n",
    "        print(f\"✅ {name}: identical.\")\n",
    "    else:\n",
    "        print(f\"❌ {name}: different!\")\n",
    "\n",
    "    # Detailed comparison message\n",
    "    if df_csv.equals(df_parquet):\n",
    "        print(\"✅ The data is exactly the same (including values, column order, and data types).\")\n",
    "    else:\n",
    "        print(\"❌ There are differences in the data content or structure.\")\n"
   ]
  },
  {
   "cell_type": "code",
   "execution_count": null,
   "id": "00d03fc7",
   "metadata": {},
   "outputs": [],
   "source": []
  }
 ],
 "metadata": {
  "kernelspec": {
   "display_name": "Python 3",
   "language": "python",
   "name": "python3"
  },
  "language_info": {
   "codemirror_mode": {
    "name": "ipython",
    "version": 3
   },
   "file_extension": ".py",
   "mimetype": "text/x-python",
   "name": "python",
   "nbconvert_exporter": "python",
   "pygments_lexer": "ipython3",
   "version": "3.11.9"
  }
 },
 "nbformat": 4,
 "nbformat_minor": 5
}
